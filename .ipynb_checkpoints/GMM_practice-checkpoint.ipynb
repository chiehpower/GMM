{
 "cells": [
  {
   "cell_type": "code",
   "execution_count": 1,
   "metadata": {},
   "outputs": [],
   "source": [
    "import matplotlib.pyplot as plt\n",
    "import numpy as np\n",
    "from sklearn.datasets.samples_generator import make_blobs\n",
    "from sklearn.mixture import GaussianMixture\n",
    "import pandas as pd\n",
    "%matplotlib inline"
   ]
  },
  {
   "cell_type": "markdown",
   "metadata": {},
   "source": [
    "# Goal\n",
    "Our goal is to load the `Rice_dMeth_dExp.txt`, and then plot the same graph below.\n",
    "![gmm](gmm.jpeg)"
   ]
  },
  {
   "cell_type": "code",
   "execution_count": 2,
   "metadata": {},
   "outputs": [
    {
     "data": {
      "text/html": [
       "<div>\n",
       "<style scoped>\n",
       "    .dataframe tbody tr th:only-of-type {\n",
       "        vertical-align: middle;\n",
       "    }\n",
       "\n",
       "    .dataframe tbody tr th {\n",
       "        vertical-align: top;\n",
       "    }\n",
       "\n",
       "    .dataframe thead th {\n",
       "        text-align: right;\n",
       "    }\n",
       "</style>\n",
       "<table border=\"1\" class=\"dataframe\">\n",
       "  <thead>\n",
       "    <tr style=\"text-align: right;\">\n",
       "      <th></th>\n",
       "      <th>dMethylation</th>\n",
       "      <th>dExpression</th>\n",
       "    </tr>\n",
       "  </thead>\n",
       "  <tbody>\n",
       "    <tr>\n",
       "      <th>0</th>\n",
       "      <td>0.872069</td>\n",
       "      <td>0.135616</td>\n",
       "    </tr>\n",
       "    <tr>\n",
       "      <th>1</th>\n",
       "      <td>0.290323</td>\n",
       "      <td>-0.692117</td>\n",
       "    </tr>\n",
       "    <tr>\n",
       "      <th>2</th>\n",
       "      <td>2.521890</td>\n",
       "      <td>0.094727</td>\n",
       "    </tr>\n",
       "    <tr>\n",
       "      <th>3</th>\n",
       "      <td>-4.336898</td>\n",
       "      <td>-0.377675</td>\n",
       "    </tr>\n",
       "    <tr>\n",
       "      <th>4</th>\n",
       "      <td>2.756643</td>\n",
       "      <td>-1.216835</td>\n",
       "    </tr>\n",
       "    <tr>\n",
       "      <th>...</th>\n",
       "      <td>...</td>\n",
       "      <td>...</td>\n",
       "    </tr>\n",
       "    <tr>\n",
       "      <th>53530</th>\n",
       "      <td>-1.604396</td>\n",
       "      <td>0.000000</td>\n",
       "    </tr>\n",
       "    <tr>\n",
       "      <th>53531</th>\n",
       "      <td>10.382362</td>\n",
       "      <td>0.000000</td>\n",
       "    </tr>\n",
       "    <tr>\n",
       "      <th>53532</th>\n",
       "      <td>-0.361111</td>\n",
       "      <td>0.000000</td>\n",
       "    </tr>\n",
       "    <tr>\n",
       "      <th>53533</th>\n",
       "      <td>0.083756</td>\n",
       "      <td>-0.007299</td>\n",
       "    </tr>\n",
       "    <tr>\n",
       "      <th>53534</th>\n",
       "      <td>-1.918919</td>\n",
       "      <td>0.000000</td>\n",
       "    </tr>\n",
       "  </tbody>\n",
       "</table>\n",
       "<p>53535 rows × 2 columns</p>\n",
       "</div>"
      ],
      "text/plain": [
       "       dMethylation  dExpression\n",
       "0          0.872069     0.135616\n",
       "1          0.290323    -0.692117\n",
       "2          2.521890     0.094727\n",
       "3         -4.336898    -0.377675\n",
       "4          2.756643    -1.216835\n",
       "...             ...          ...\n",
       "53530     -1.604396     0.000000\n",
       "53531     10.382362     0.000000\n",
       "53532     -0.361111     0.000000\n",
       "53533      0.083756    -0.007299\n",
       "53534     -1.918919     0.000000\n",
       "\n",
       "[53535 rows x 2 columns]"
      ]
     },
     "execution_count": 2,
     "metadata": {},
     "output_type": "execute_result"
    }
   ],
   "source": [
    "rice = pd.read_csv('Rice_dMeth_dExp.txt', sep=\"\\t\")\n",
    "rice1 = rice[['dMethylation','dExpression']]\n",
    "rice1"
   ]
  },
  {
   "cell_type": "code",
   "execution_count": 3,
   "metadata": {
    "scrolled": true
   },
   "outputs": [],
   "source": [
    "# labels = GaussianMixture(n_components=1).fit(rice1).predict(rice1)\n",
    "# plt.scatter(rice1.dMethylation, rice1.dExpression, c=labels, s=1, cmap='viridis');"
   ]
  },
  {
   "cell_type": "code",
   "execution_count": 4,
   "metadata": {},
   "outputs": [],
   "source": [
    "x0 =[]\n",
    "for i in range(len(rice1.dMethylation)):\n",
    "    x0.append([rice1.dMethylation[i],rice1.dExpression[i]])"
   ]
  },
  {
   "cell_type": "code",
   "execution_count": 5,
   "metadata": {},
   "outputs": [],
   "source": [
    "def gaussian(X):\n",
    "    mu = np.mean(X, axis=0) \n",
    "    cov = np.dot((X - mu).T, X - mu) / (np.shape(X)[0] - 1) \n",
    "    n = np.shape(X)[1] \n",
    "    diff = (X - mu).T \n",
    "    return np.diagonal(1 / ((2 * np.pi) ** (n / 2) * np.linalg.det(cov) ** 0.5) * np.exp(-0.5 * np.dot(np.dot(diff.T, np.linalg.inv(cov)), diff))).reshape(-1, 1) \n",
    "y = gaussian(x0) "
   ]
  },
  {
   "cell_type": "code",
   "execution_count": 7,
   "metadata": {},
   "outputs": [],
   "source": [
    "A = 0\n",
    "B = 0\n",
    "C = 0\n",
    "D = 0\n",
    "outliers = np.nonzero(y<0.0001)[0]\n",
    "for i in outliers:\n",
    "    if rice1.dMethylation[i] > 0:\n",
    "        if rice1.dExpression[i] > 0:\n",
    "            A += 1\n",
    "        elif rice1.dExpression[i] < 0:\n",
    "            D += 1\n",
    "    elif rice1.dMethylation[i] < 0:    \n",
    "        if rice1.dExpression[i] > 0:\n",
    "            B += 1\n",
    "        elif rice1.dExpression[i] < 0:\n",
    "            C += 1\n",
    "\n",
    "YY = np.linspace(-10,10,100)\n",
    "YX = np.zeros(100)\n",
    "XX = np.linspace(-100,100,100)"
   ]
  },
  {
   "cell_type": "code",
   "execution_count": 8,
   "metadata": {
    "scrolled": true
   },
   "outputs": [
    {
     "data": {
      "image/png": "[encoded data removed]",
      "text/plain": [
       "<Figure size 432x288 with 1 Axes>"
      ]
     },
     "metadata": {
      "needs_background": "light"
     },
     "output_type": "display_data"
    }
   ],
   "source": [
    "plt.figure()\n",
    "axes = plt.subplot(111)\n",
    "axes.plot(YX, YY, linewidth=0.5, c='b')\n",
    "axes.plot(XX, YX, linewidth=0.5, c='b')\n",
    "plt.scatter(rice1.dMethylation, rice1.dExpression, s=1, c='b');\n",
    "plt.scatter(rice1.dMethylation[outliers], rice1.dExpression[outliers], s=1,c='r');\n",
    "plt.ylabel(\"Gene expression changes (%)\")\n",
    "plt.xlabel(\"Methylation level changes changes (%)\")\n",
    "plt.text(85, 8, A, ha='center', va= 'bottom',fontsize=15)\n",
    "plt.text(-75, 8, B, ha='center', va= 'bottom',fontsize=15)\n",
    "plt.text(-75, -9.5, C, ha='center', va= 'bottom',fontsize=15)\n",
    "plt.text(85, -9.5, D, ha='center', va= 'bottom',fontsize=15)\n",
    "plt.axis([-100, 100, -10.0, 10.0])\n",
    "plt.show()"
   ]
  },
  {
   "cell_type": "markdown",
   "metadata": {},
   "source": [
    "### Reference:\n",
    "1. https://towardsdatascience.com/understanding-anomaly-detection-in-python-using-gaussian-mixture-model-e26e5d06094b\n",
    "2. https://kknews.cc/zh-tw/code/2kgj43e.html"
   ]
  }
 ],
 "metadata": {
  "hide_input": false,
  "kernelspec": {
   "display_name": "Python 3",
   "language": "python",
   "name": "python3"
  },
  "language_info": {
   "codemirror_mode": {
    "name": "ipython",
    "version": 3
   },
   "file_extension": ".py",
   "mimetype": "text/x-python",
   "name": "python",
   "nbconvert_exporter": "python",
   "pygments_lexer": "ipython3",
   "version": "3.7.2"
  },
  "varInspector": {
   "cols": {
    "lenName": 16,
    "lenType": 16,
    "lenVar": 40
   },
   "kernels_config": {
    "python": {
     "delete_cmd_postfix": "",
     "delete_cmd_prefix": "del ",
     "library": "var_list.py",
     "varRefreshCmd": "print(var_dic_list())"
    },
    "r": {
     "delete_cmd_postfix": ") ",
     "delete_cmd_prefix": "rm(",
     "library": "var_list.r",
     "varRefreshCmd": "cat(var_dic_list()) "
    }
   },
   "types_to_exclude": [
    "module",
    "function",
    "builtin_function_or_method",
    "instance",
    "_Feature"
   ],
   "window_display": false
  }
 },
 "nbformat": 4,
 "nbformat_minor": 2
}
